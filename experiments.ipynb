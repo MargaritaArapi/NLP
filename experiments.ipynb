{
 "cells": [
  {
   "cell_type": "markdown",
   "metadata": {},
   "source": []
  },
  {
   "cell_type": "code",
   "execution_count": 18,
   "metadata": {},
   "outputs": [],
   "source": [
    "import preprocessing\n",
    "import os\n",
    "import data_analysis\n",
    "import random"
   ]
  },
  {
   "cell_type": "code",
   "execution_count": 2,
   "metadata": {},
   "outputs": [],
   "source": [
    "# Load WhatsApp Message Dataframe from XML files\n",
    "current_dir = os.getcwd()\n",
    "path_to_whatsapp = current_dir + '/corpora/whatsapp/'\n",
    "dataframe = preprocessing.get_dataframe(path_to_whatsapp)"
   ]
  },
  {
   "cell_type": "code",
   "execution_count": 3,
   "metadata": {},
   "outputs": [
    {
     "name": "stdout",
     "output_type": "stream",
     "text": [
      "NUMBER OF NONEMPTY MESSAGES IN DATAFRAME: 5906\n",
      "EXAMPLE MESSAGES FROM DATAFRAME:\n",
      "{'id': 'i171', 'author': 'Giulia', 'date': '2015-09-24', 'time': '15:00:45', 'content': '😄😄😄😄😄😄'}\n",
      "{'id': 'i172', 'author': 'Giulia', 'date': '2015-09-24', 'time': '15:01:23', 'content': 'L ho fatto x te..x farti ridere ! !'}\n",
      "{'id': 'i173', 'author': 'Giulia', 'date': '2015-09-24', 'time': '15:01:27', 'content': '😄'}\n",
      "{'id': 'i174', 'author': 'Giulia', 'date': '2015-09-24', 'time': '15:01:57', 'content': \"Cm va nella terra dei fichi d' India ?\"}\n",
      "{'id': 'i175', 'author': 'Lorenzo', 'date': '2015-09-24', 'time': '15:02:58', 'content': 'Benissimo mi sto godendo la mamma e domani torno ! ! !'}\n"
     ]
    }
   ],
   "source": [
    "# Print Example Entries of Dataframe\n",
    "print('NUMBER OF NONEMPTY MESSAGES IN DATAFRAME: ' + str(len(dataframe)))\n",
    "print('EXAMPLE MESSAGES FROM DATAFRAME:')\n",
    "for x in range(5):\n",
    "    print(dataframe[x+1234])"
   ]
  },
  {
   "cell_type": "code",
   "execution_count": 22,
   "metadata": {},
   "outputs": [
    {
     "name": "stdout",
     "output_type": "stream",
     "text": [
      "Meno male che hai trovato il pilota giusto ! ! ! 😂😂😂😂 buone vacanze ! ! Xx\n",
      "😂😂\n",
      "Anni luce indietro\n",
      "Buonasera ragazze belle ... secondo voi prima di mercoledi ( magari nel week end ) riusciamo ad incontrarci per definire qualcosa sugli scherzi ? ? Per caso qualcuna di voi ha pensato qualcosa ?\n",
      "Passa un bel complimento\n",
      "L' autrice mi ha chiesto di girarlo al cea PON co .\n",
      "😂😂\n",
      "Stai gridando le olimpiadi ?\n",
      "Sono morta\n",
      "Pensa che 8n tre giorni ho fatto 170€\n",
      "Sara : )\n",
      "Buona notte BMW\n",
      "😂😂😂\n",
      "Tipo 3/4 uova per mezzo chilo\n",
      "Siete in partenza ? ?\n",
      "Magari oggi pome se c sei passo un attimo a salutarti\n",
      "Martedi\n",
      "Auguri a tutti\n",
      "Forse è la connessione\n",
      "😤😤😤😤😤😤😤\n",
      "Buona pasquetta a tutti !\n",
      "Se vieni con noi costa addirittura d meno\n",
      "Vabbè dai ! no problem c risentiamo ! ! !\n",
      "\n",
      "Picciotti significa bambino/ragazzo\n",
      "🌞🌞🌞\n",
      "😘\n",
      "Dal 3 al 7 aprile\n",
      "Sisi\n",
      "spero che tu riesca a scendere presto qui a ferrara\n",
      "Domani ti scrivo bene ! !\n",
      "Ciao Alessandro\n",
      "In due o a testa ? ?\n",
      "Novità da monte isola ?\n",
      "Amorina ... guten morgen ! Il gran giorno si avvicina\n",
      "Sicuramente qualcosa.di più secco aiuta\n",
      "Chimica\n",
      "Cazz m spiace fra\n",
      "Mandami una foto\n",
      "Ti avevo mandato il link ?\n",
      "Nn c è acqua frizzante per il personale e per fare le schiere\n",
      "Gomme da masticare da brooklyn e se ci sono ancora qualche videocassetta mahattan\n",
      "Buongiorno a tutte e impegnamoci che mancano pochi giorni ! ! ! 💪🏻🎉🎊🎉\n",
      "Io alle 16 00 ... scappo\n",
      "☺☺☺\n",
      "Come cresce quel figlio\n",
      "Ero tipo che c' era un tipo che sosteneva che in una fontana c erano 100.000 euro in monetine e allora uno gli e ne offriva 100000 e poi un altro a rialzare e così via fino che il tipo arriva a un milione\n",
      "Ciao a tutti\n",
      "buon viaggio ! ! ich hoffe wir sehen uns bald ! ☀️\n",
      "Sì a domani ! ! Mi raccomando il baukiller😂😂\n"
     ]
    }
   ],
   "source": [
    "# QUALITATIVE EXPERIMENTS \n",
    "\n",
    "# Take a sample of 50 random messages from the dataframe \n",
    "random_sample_50 = random.sample(dataframe, 50)\n",
    "for x in random_sample_50:\n",
    "    print(x['content'])"
   ]
  },
  {
   "cell_type": "code",
   "execution_count": 12,
   "metadata": {},
   "outputs": [
    {
     "name": "stdout",
     "output_type": "stream",
     "text": [
      "Query 😄 found in 23 messages. Total count of occurences: 47\n",
      "Query ciao found in 153 messages. Total count of occurences: 153\n",
      "Query : found in 97 messages. Total count of occurences: 112\n",
      "Query xd found in 1 messages. Total count of occurences: 1\n"
     ]
    }
   ],
   "source": [
    "# QUANTITATIVE EXPERIMENTS\n",
    "data_analysis.count_input_in_dataframe(query='😄', dataframe=dataframe)\n",
    "data_analysis.count_input_in_dataframe(query='ciao', dataframe=dataframe, lower_case=True)\n",
    "data_analysis.count_input_in_dataframe(query=':', dataframe=dataframe, lower_case=True)\n",
    "data_analysis.count_input_in_dataframe(query='xD', dataframe=dataframe, lower_case=True)"
   ]
  }
 ],
 "metadata": {
  "kernelspec": {
   "display_name": "Python 3",
   "language": "python",
   "name": "python3"
  },
  "language_info": {
   "codemirror_mode": {
    "name": "ipython",
    "version": 3
   },
   "file_extension": ".py",
   "mimetype": "text/x-python",
   "name": "python",
   "nbconvert_exporter": "python",
   "pygments_lexer": "ipython3",
   "version": "3.10.7"
  }
 },
 "nbformat": 4,
 "nbformat_minor": 2
}
