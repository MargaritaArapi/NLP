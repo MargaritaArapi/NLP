{
 "cells": [
  {
   "cell_type": "markdown",
   "metadata": {},
   "source": []
  },
  {
   "cell_type": "code",
   "execution_count": 1,
   "metadata": {},
   "outputs": [],
   "source": [
    "import preprocessing\n",
    "import os\n",
    "import data_analysis\n",
    "import random"
   ]
  },
  {
   "cell_type": "code",
   "execution_count": 2,
   "metadata": {},
   "outputs": [],
   "source": [
    "# Load WhatsApp Message Dataframe from XML files\n",
    "current_dir = os.getcwd()\n",
    "path_to_whatsapp = current_dir + '/corpora/whatsapp/'\n",
    "dataframe = preprocessing.get_dataframe(path_to_whatsapp)"
   ]
  },
  {
   "cell_type": "code",
   "execution_count": 3,
   "metadata": {},
   "outputs": [
    {
     "name": "stdout",
     "output_type": "stream",
     "text": [
      "NUMBER OF NONEMPTY MESSAGES IN DATAFRAME: 5906\n",
      "EXAMPLE MESSAGES FROM DATAFRAME:\n",
      "{'id': 'i171', 'author': 'Giulia', 'date': '2015-09-24', 'time': '15:00:45', 'content': '😄😄😄😄😄😄'}\n",
      "{'id': 'i172', 'author': 'Giulia', 'date': '2015-09-24', 'time': '15:01:23', 'content': 'L ho fatto x te..x farti ridere ! !'}\n",
      "{'id': 'i173', 'author': 'Giulia', 'date': '2015-09-24', 'time': '15:01:27', 'content': '😄'}\n",
      "{'id': 'i174', 'author': 'Giulia', 'date': '2015-09-24', 'time': '15:01:57', 'content': \"Cm va nella terra dei fichi d' India ?\"}\n",
      "{'id': 'i175', 'author': 'Lorenzo', 'date': '2015-09-24', 'time': '15:02:58', 'content': 'Benissimo mi sto godendo la mamma e domani torno ! ! !'}\n"
     ]
    }
   ],
   "source": [
    "# Print Example Entries of Dataframe\n",
    "print('NUMBER OF NONEMPTY MESSAGES IN DATAFRAME: ' + str(len(dataframe)))\n",
    "print('EXAMPLE MESSAGES FROM DATAFRAME:')\n",
    "for x in range(5):\n",
    "    print(dataframe[x+1234])"
   ]
  },
  {
   "cell_type": "code",
   "execution_count": 6,
   "metadata": {},
   "outputs": [
    {
     "name": "stdout",
     "output_type": "stream",
     "text": [
      "Cazzo dopo 8 mesi ! !😂😂😂\n",
      "Domano vado a iniziare il traslochino\n",
      "Marted ne ho vista una bella\n",
      "C sei ? ero in bib\n",
      "In due o a testa ? ?\n",
      "Grazie per gli auguri a tutti\n",
      "Si c' è ,era nascosto\n",
      "Per l' occasione il paese fantasma sarà illuminato\n",
      "Perché da peschiera è troppo presto\n",
      "Ja genau\n",
      "👍👍\n",
      "😤😱\n",
      "Tranqui\n",
      "Strunz\n",
      "Beh ... . . non credo . ... . ? ? ?\n",
      "Secondo me invece potrebbe piacere più a te che a me😂😂 David dice che è molto italiana😂😂\n",
      "\n",
      "Stai bene ?\n",
      "X arrivare a casa ieri e'stata dura ! ! ! !\n",
      "Era la mia vecchia cucina\n",
      "😂😂😁\n",
      "Grazie cicciareeee ! ! ! Noi abbiamo passato una bella giornata ! ! Mi auguro che anche voi passate giorni sereni ! !ti abbraccio ! ! ! 😘😘\n",
      "? ?\n",
      "L’ economia delle cene di coppia - http://***\n",
      "Tranquilla stellassa ...\n",
      "è tarde,no ?\n",
      "Sabato 29 ci sono sempre , domenica 30 no perché ho un battesimo !\n",
      "Arrivati\n",
      "😍😍🍾😍😍\n",
      "Notte\n",
      "Ma si sono persi ?\n",
      "😁😁\n",
      "\n",
      "L ha trovato mia sorella a Lecce\n",
      "Devi riempirlo di acqua bollente così di scalda\n",
      "Ho altre foto sulla macchina fotografica 📷\n",
      "Ciao gioo ... sei libera dalle 19.00 sabato ? ?\n",
      "Però mi devi far uscire . Con 2 ragazze . Sabato sera alle 20:30 . Ciao amico .\n",
      "Ora vado a Roma\n",
      "Grazie intanto\n",
      "Xk un attimo ? ? ?\n",
      "Dì la verità ,stavi guardando la foto😉😉\n",
      "Ritorno dobbiamo partire lunedi tardo pomeriggio\n",
      "😍\n",
      "Mi ha detto che deve vedere le tasse che deve pagare alla fine dell' anno\n",
      "Se sei d' accordo con me .\n",
      "L ho passato però ho preso il minimo,sia in qst che nell altro 😞\n",
      "😍\n",
      "Mancano anche i tovaglioli ,nn quelli spessi Non sono urgenti per oggi Li puoi pender anche domani\n",
      "Il 2 gennaio arrivo a Bergamo per le 11:15\n"
     ]
    }
   ],
   "source": [
    "# QUALITATIVE EXPERIMENTS \n",
    "\n",
    "# Take a sample of 50 random messages from the dataframe \n",
    "random_sample_50 = random.sample(dataframe, 50)\n",
    "for x in random_sample_50:\n",
    "    print(x['content'])"
   ]
  },
  {
   "cell_type": "code",
   "execution_count": 32,
   "metadata": {},
   "outputs": [
    {
     "name": "stdout",
     "output_type": "stream",
     "text": [
      "Query 😄 found in 23 messages. Total count of occurences: 47\n",
      "Query 😭 found in 11 messages. Total count of occurences: 33\n",
      "Query :( found in 6 messages. Total count of occurences: 6\n",
      "Query :) found in 0 messages. Total count of occurences: 0\n",
      "Query tvb found in 2 messages. Total count of occurences: 2\n",
      "Query cmq found in 25 messages. Total count of occurences: 25\n",
      "Query 7 found in 56 messages. Total count of occurences: 63\n",
      "Query 1 found in 164 messages. Total count of occurences: 233\n",
      "Query 6 found in 31 messages. Total count of occurences: 32\n",
      "Query + found in 3 messages. Total count of occurences: 3\n",
      "Query x found in 105 messages. Total count of occurences: 131\n",
      "Query pf found in 2 messages. Total count of occurences: 2\n",
      "Query <3 found in 0 messages. Total count of occurences: 0\n"
     ]
    }
   ],
   "source": [
    "# QUANTITATIVE EXPERIMENTS\n",
    "data_analysis.count_input_in_dataframe(query='😄', dataframe=dataframe)\n",
    "data_analysis.count_input_in_dataframe(query='😭', dataframe=dataframe)\n",
    "data_analysis.count_input_in_dataframe(query=':(', dataframe=dataframe)\n",
    "data_analysis.count_input_in_dataframe(query=':)', dataframe=dataframe)\n",
    "data_analysis.count_input_in_dataframe(query='tvb', dataframe=dataframe, lower_case=True)\n",
    "data_analysis.count_input_in_dataframe(query='cmq', dataframe=dataframe, lower_case=True)\n",
    "data_analysis.count_input_in_dataframe(query='7', dataframe=dataframe, lower_case=True)\n",
    "data_analysis.count_input_in_dataframe(query='1', dataframe=dataframe, lower_case=True)\n",
    "data_analysis.count_input_in_dataframe(query='6', dataframe=dataframe)\n",
    "data_analysis.count_input_in_dataframe(query='+', dataframe=dataframe)\n",
    "data_analysis.count_input_in_dataframe(query='x', dataframe=dataframe)\n",
    "data_analysis.count_input_in_dataframe(query='pf', dataframe=dataframe)\n",
    "data_analysis.count_input_in_dataframe(query='<3', dataframe=dataframe)\n",
    "data_analysis.count_input_in_dataframe(query='', dataframe=dataframe)\n"
   ]
  },
  {
   "cell_type": "code",
   "execution_count": null,
   "metadata": {},
   "outputs": [],
   "source": []
  }
 ],
 "metadata": {
  "kernelspec": {
   "display_name": "Python 3",
   "language": "python",
   "name": "python3"
  },
  "language_info": {
   "codemirror_mode": {
    "name": "ipython",
    "version": 3
   },
   "file_extension": ".py",
   "mimetype": "text/x-python",
   "name": "python",
   "nbconvert_exporter": "python",
   "pygments_lexer": "ipython3",
   "version": "3.12.5"
  }
 },
 "nbformat": 4,
 "nbformat_minor": 2
}
